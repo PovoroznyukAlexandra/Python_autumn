{
 "cells": [
  {
   "cell_type": "markdown",
   "id": "f281cf39",
   "metadata": {},
   "source": [
    "## Реализуйте класс `Vector`, допускающий следующие операции:\n",
    "1. Конструктор, который принимает на вход итерируемый объект. Данные должны храниться в виде стандартного объекта `array` (не `numpy.array`!) типа `float64`;\n",
    "\n",
    "2. Класс должен быть итерируемым (реализовать метод `__iter__`). В частности, должен работать следующий код\n",
    "\n",
    "```\n",
    ">>> v1 = Vector([3, 4, 5])\n",
    ">>> x, y, z = v1\n",
    ">>> x, y, z\n",
    "(3.0, 4.0, 5.0)\n",
    "```\n",
    "\n",
    "3. Корректную операцию сравнения `==` (реализовать метод `__eq__`). Два объекта будем считать равными, если совпадает длина и равны все элементы\n",
    "\n",
    "```\n",
    ">>> v1 = Vector([3, 4, 5])\n",
    ">>> v2 = Vector([3.0, 4.0, 5.0])\n",
    ">>> v3 = Vector([3, 4])\n",
    ">>> v1 == v2\n",
    "True\n",
    ">>> v1 == v3\n",
    "False\n",
    "```\n",
    "\n",
    "4. Класс должен уметь возвращать в разумном виде свое текстовое представление (реализовать метод `__repr__`):\n",
    "\n",
    "```\n",
    ">>> v1 = Vector([3, 4, 5])\n",
    ">>> v1\n",
    "Vector((3, 4, 5))\n",
    "```\n",
    "При правильно реализованной операции равенства должен работать следующий код:\n",
    "\n",
    "```\n",
    ">>> v2 = eval(repr(v1))\n",
    ">>> v1 == v2\n",
    "True\n",
    "```\n",
    "\n",
    "5. Класс должен уметь корректно приводить объект к строчному типу, в частности, работать с функцией `print` (реализовать метод `__str__`):\n",
    "\n",
    "```\n",
    ">>> v1 = Vector([3, 4, 5])\n",
    ">>> print(v1)\n",
    "(3.0, 4.0, 5.0)\n",
    "```\n",
    "\n",
    "6. Класс должен уметь возвращать свою длину методом `len` (реализовать `__len__`) и допускать индексацию, в том числе с помощью срезов (реализовать `__getitem__`). При этом срез должен возвращать (как и все стандартные типы в питоне) копию объекта.\n",
    "\n",
    "```\n",
    ">>> v1 = Vector([3, 4, 5])\n",
    ">>> len(v1)\n",
    "3\n",
    ">>> v1[1]\n",
    "4.0\n",
    ">>> v1[-1]\n",
    "5.0\n",
    ">>> v1[3.14]\n",
    "TypeError: Vector indices must be integers\n",
    ">>> v2 = v1\n",
    ">>> v3 = v1[:]\n",
    ">>> v1 is v2\n",
    "True\n",
    ">>> v1 is v3\n",
    "False\n",
    "```\n",
    "\n",
    "7. Операцию получения евклидовой длины и приведение к типу `bool`. При приведении к типу `bool` нулевой вектор приводится к `False`, все остальные вектора к `True` (`__abs__`, `__bool__`):\n",
    "\n",
    "```\n",
    ">>> v1 = Vector([3.0, 4.0])\n",
    ">>> abs(v1)\n",
    "5.0\n",
    ">>> v2 = Vector([0.0, 0.0, 0.0])\n",
    ">>> bool(v1)\n",
    "False\n",
    ">>> bool(v2)\n",
    "True\n",
    "```\n",
    "\n",
    "8. Операцию поэлементного сложения векторов (`__add__`) и умножения на константу. Умножать на константу должна быть возможность как справа, так и слева (`__mul__` и `__rmul__`):\n",
    "\n",
    "```\n",
    ">>> v1 = Vector([3, 4, 5])\n",
    ">>> v2 = Vector([6, 7, 8])\n",
    ">>> v1 + v2\n",
    "Vector([9.0, 11.0, 13.0])\n",
    ">>> v1 * 2\n",
    "Vector([6.0, 8.0, 10.0])\n",
    ">>> 2 * v1\n",
    "Vector([6.0, 8.0, 10.0])\n",
    ">>> v1 + 2\n",
    "TypeError: unsupported operand type(s) for +: 'Vector' and 'int'\n",
    "```\n",
    "Для получения корректной ошибки метод должен возвращать `return NotImplemented`.\n",
    "\n",
    "9. Векторы длины не больше 4 должны допускать возможность индексации с помощью `v1.x, v1.y, v1.z, v1.t`:\n",
    "\n",
    "```\n",
    ">>> v1 = Vector(range(4))\n",
    ">>> v1.x\n",
    "0.0\n",
    ">>> v1.y, v1.z, v1.t\n",
    "(1.0, 2.0, 3.0)\n",
    ">>> v2 = Vector(range(3))\n",
    ">>> v2.x, v2.y, v2.z\n",
    "(0.0, 1.0, 2.0)\n",
    ">>> v2.t\n",
    "AttributeError: 'Vector' object has no attribute 't'\n",
    "```\n",
    "Для этого реализуйте метод `__getattr__`, который в случае некорректного атрибута возвращает исключение `raise AttributeError`.\n",
    "\n",
    "10. Реализуйте возможность использовать вектор в виде ключей словаря. Для этого реализуйте метод хеширования вектора (`__hash__`). Как один из вариантов построения хеша можно реализовать операцию `xor` от хешей всех элементов вектора. Возможно, вам пригодятся для этого функции `functools.reduce` и `operator.xor`, если вам надоело писать циклы `for`:\n",
    "\n",
    "```\n",
    ">>> v1 = Vector([0, 1, 2])\n",
    ">>> v2 = Vector([3, 4, 5])\n",
    ">>> d = {}\n",
    ">>> d[v1] = 'abc'\n",
    ">>> d[v2] = 'def'\n",
    ">>> d\n",
    "{Vector([0.0, 1.0, 2.0]): 'abc', Vector([3.0, 4.0, 5.0]): 'def'}\n",
    "```"
   ]
  },
  {
   "cell_type": "markdown",
   "id": "2cf0a9e5",
   "metadata": {},
   "source": [
    "# 1. Класс Vector"
   ]
  },
  {
   "cell_type": "code",
   "execution_count": 12,
   "id": "94e8fb2b",
   "metadata": {},
   "outputs": [],
   "source": [
    "import array as arr\n",
    "import math\n",
    "from functools import reduce\n",
    "from operator import xor\n",
    "\n",
    "class Vector(object):\n",
    "    def __init__(self, coord):\n",
    "        self.length = len(coord)\n",
    "        self.coord = arr.array(\"f\", coord)\n",
    "\n",
    "    def __iter__(self):\n",
    "        return iter(self.coord)\n",
    "        \n",
    "    def __eq__(self, compared):   \n",
    "        return ((self.length == compared.length) & (self.coord[:] == compared.coord[:]))\n",
    "    \n",
    "    def __repr__(self):\n",
    "        string = \"Vector(\"\n",
    "        string += (repr(list(self.coord)) + \")\")\n",
    "        return string\n",
    "    \n",
    "    def __str__(self):\n",
    "        return repr(tuple(self.coord))\n",
    "    \n",
    "    def __len__(self):\n",
    "        return len(self.coord)\n",
    "    \n",
    "    def __getitem__(self, item):\n",
    "        if (isinstance(item, int)):\n",
    "            return self.coord[item]\n",
    "        elif (isinstance(item, slice)):\n",
    "            return (self.coord[item.start:item.stop:item.step])\n",
    "        else:\n",
    "            raise TypeError('Vector indices must be integers')\n",
    "            \n",
    "    def __abs__(self):\n",
    "        return (math.sqrt(sum(self.coord[i]**2 for i in range (self.length))))\n",
    "    \n",
    "    def __bool__(self):\n",
    "        if (self.__abs__() == 0):\n",
    "            return True\n",
    "        else:\n",
    "            return False\n",
    "        \n",
    "    def __add__(self, added):\n",
    "        ans = []\n",
    "        if (isinstance(added, Vector)):\n",
    "            for i in range(self.length):\n",
    "                ans.append(self.coord[i] + added.coord[i])\n",
    "            return Vector(ans)\n",
    "        else:\n",
    "            return NotImplemented\n",
    "    \n",
    "    def __mul__(self, prod):\n",
    "        ans = []\n",
    "        if isinstance(prod, Vector):\n",
    "            for i in range (prod.length):\n",
    "                ans.append(self * prod.coord[i])\n",
    "            return Vector(ans)\n",
    "        elif isinstance(prod, (int, float)):\n",
    "            for i in range (self.length):\n",
    "                ans.append(self.coord[i] * prod)\n",
    "            return Vector(ans)\n",
    "        else:\n",
    "            return NotImplemented\n",
    "    \n",
    "    def __rmul__(self, prod):\n",
    "        return self.__mul__(prod)\n",
    "    \n",
    "    def __getattr__(self, item):\n",
    "        #d = dict(('x', 0), ('y', 1), ('z', 2), ('t', 3)\n",
    "        d = {'x': 0, 'y': 1, 'z': 2, 't': 3}\n",
    "        if ((self.length - 1) < d[item]):\n",
    "            raise AttributeError(\"'Vector' object has no attribute '{}'\".format(item))\n",
    "        elif (self.length > 4):\n",
    "            raise AttributeError\n",
    "        else:\n",
    "            return self.coord[d[item]]\n",
    "    \n",
    "    def __hash__(self):\n",
    "        return reduce(xor, map(hash, self.coord))"
   ]
  },
  {
   "cell_type": "markdown",
   "id": "51a53873",
   "metadata": {},
   "source": [
    "### Check __iter__"
   ]
  },
  {
   "cell_type": "code",
   "execution_count": 13,
   "id": "bafba02d",
   "metadata": {
    "scrolled": true
   },
   "outputs": [
    {
     "data": {
      "text/plain": [
       "(3.0, 4.0, 5.0)"
      ]
     },
     "execution_count": 13,
     "metadata": {},
     "output_type": "execute_result"
    }
   ],
   "source": [
    "v1 = Vector([3, 4, 5])\n",
    "x, y, z = v1\n",
    "x, y, z\n",
    "#(3.0, 4.0, 5.0)"
   ]
  },
  {
   "cell_type": "markdown",
   "id": "1a9f8d8e",
   "metadata": {},
   "source": [
    "### Check __eq__"
   ]
  },
  {
   "cell_type": "code",
   "execution_count": 14,
   "id": "23dadb6a",
   "metadata": {
    "scrolled": true
   },
   "outputs": [
    {
     "data": {
      "text/plain": [
       "True"
      ]
     },
     "execution_count": 14,
     "metadata": {},
     "output_type": "execute_result"
    }
   ],
   "source": [
    "v1 = Vector([3, 4, 5])\n",
    "v2 = Vector([3.0, 4.0, 5.0])\n",
    "v3 = Vector([3, 4])\n",
    "v1 == v2\n",
    "#v1 == v2 -> True"
   ]
  },
  {
   "cell_type": "code",
   "execution_count": 15,
   "id": "59d36a06",
   "metadata": {},
   "outputs": [
    {
     "data": {
      "text/plain": [
       "False"
      ]
     },
     "execution_count": 15,
     "metadata": {},
     "output_type": "execute_result"
    }
   ],
   "source": [
    "v1 == v3\n",
    "#v1 == v3 -> False"
   ]
  },
  {
   "cell_type": "markdown",
   "id": "65dbd071",
   "metadata": {},
   "source": [
    "### Check __repr__"
   ]
  },
  {
   "cell_type": "code",
   "execution_count": 16,
   "id": "4b30f61b",
   "metadata": {
    "scrolled": true
   },
   "outputs": [
    {
     "data": {
      "text/plain": [
       "Vector([3.0, 4.0, 5.0])"
      ]
     },
     "execution_count": 16,
     "metadata": {},
     "output_type": "execute_result"
    }
   ],
   "source": [
    "v1 = Vector([3, 4, 5])\n",
    "v1\n",
    "#Vector((3, 4, 5))"
   ]
  },
  {
   "cell_type": "code",
   "execution_count": 17,
   "id": "03dc263f",
   "metadata": {},
   "outputs": [
    {
     "data": {
      "text/plain": [
       "True"
      ]
     },
     "execution_count": 17,
     "metadata": {},
     "output_type": "execute_result"
    }
   ],
   "source": [
    "v2 = eval(repr(v1))\n",
    "v1 == v2\n",
    "#True"
   ]
  },
  {
   "cell_type": "markdown",
   "id": "bfb84b9b",
   "metadata": {},
   "source": [
    "### Check __str__"
   ]
  },
  {
   "cell_type": "code",
   "execution_count": 18,
   "id": "25b5cec2",
   "metadata": {},
   "outputs": [
    {
     "name": "stdout",
     "output_type": "stream",
     "text": [
      "(3.0, 4.0, 5.0)\n"
     ]
    }
   ],
   "source": [
    "v1 = Vector([3, 4, 5])\n",
    "print(v1)\n",
    "\n",
    "#(3.0, 4.0, 5.0)"
   ]
  },
  {
   "cell_type": "markdown",
   "id": "6d4fdb24",
   "metadata": {},
   "source": [
    "### Check __getitem__"
   ]
  },
  {
   "cell_type": "code",
   "execution_count": 19,
   "id": "835be3da",
   "metadata": {},
   "outputs": [
    {
     "data": {
      "text/plain": [
       "3"
      ]
     },
     "execution_count": 19,
     "metadata": {},
     "output_type": "execute_result"
    }
   ],
   "source": [
    "v1 = Vector([3, 4, 5])\n",
    "len(v1)\n",
    "#3"
   ]
  },
  {
   "cell_type": "code",
   "execution_count": 20,
   "id": "2dc976ae",
   "metadata": {},
   "outputs": [
    {
     "data": {
      "text/plain": [
       "4.0"
      ]
     },
     "execution_count": 20,
     "metadata": {},
     "output_type": "execute_result"
    }
   ],
   "source": [
    "v1[1]\n",
    "#4.0"
   ]
  },
  {
   "cell_type": "code",
   "execution_count": 21,
   "id": "2eb56ce4",
   "metadata": {},
   "outputs": [
    {
     "data": {
      "text/plain": [
       "5.0"
      ]
     },
     "execution_count": 21,
     "metadata": {},
     "output_type": "execute_result"
    }
   ],
   "source": [
    "v1[-1]\n",
    "#5.0"
   ]
  },
  {
   "cell_type": "code",
   "execution_count": 22,
   "id": "d6dc82b3",
   "metadata": {},
   "outputs": [
    {
     "ename": "TypeError",
     "evalue": "Vector indices must be integers",
     "output_type": "error",
     "traceback": [
      "\u001b[0;31m---------------------------------------------------------------------------\u001b[0m",
      "\u001b[0;31mTypeError\u001b[0m                                 Traceback (most recent call last)",
      "Cell \u001b[0;32mIn [22], line 1\u001b[0m\n\u001b[0;32m----> 1\u001b[0m \u001b[43mv1\u001b[49m\u001b[43m[\u001b[49m\u001b[38;5;241;43m3.14\u001b[39;49m\u001b[43m]\u001b[49m\n",
      "Cell \u001b[0;32mIn [12], line 34\u001b[0m, in \u001b[0;36mVector.__getitem__\u001b[0;34m(self, item)\u001b[0m\n\u001b[1;32m     32\u001b[0m     \u001b[38;5;28;01mreturn\u001b[39;00m (\u001b[38;5;28mself\u001b[39m\u001b[38;5;241m.\u001b[39mcoord[item\u001b[38;5;241m.\u001b[39mstart:item\u001b[38;5;241m.\u001b[39mstop:item\u001b[38;5;241m.\u001b[39mstep])\n\u001b[1;32m     33\u001b[0m \u001b[38;5;28;01melse\u001b[39;00m:\n\u001b[0;32m---> 34\u001b[0m     \u001b[38;5;28;01mraise\u001b[39;00m \u001b[38;5;167;01mTypeError\u001b[39;00m(\u001b[38;5;124m'\u001b[39m\u001b[38;5;124mVector indices must be integers\u001b[39m\u001b[38;5;124m'\u001b[39m)\n",
      "\u001b[0;31mTypeError\u001b[0m: Vector indices must be integers"
     ]
    }
   ],
   "source": [
    "v1[3.14]\n",
    "#TypeError: Vector indices must be integers"
   ]
  },
  {
   "cell_type": "code",
   "execution_count": 23,
   "id": "b9a9fc4c",
   "metadata": {},
   "outputs": [
    {
     "data": {
      "text/plain": [
       "True"
      ]
     },
     "execution_count": 23,
     "metadata": {},
     "output_type": "execute_result"
    }
   ],
   "source": [
    "v2 = v1\n",
    "v3 = v1[:]\n",
    "v1 is v2\n",
    "#True"
   ]
  },
  {
   "cell_type": "code",
   "execution_count": 24,
   "id": "4085d6b1",
   "metadata": {},
   "outputs": [
    {
     "data": {
      "text/plain": [
       "False"
      ]
     },
     "execution_count": 24,
     "metadata": {},
     "output_type": "execute_result"
    }
   ],
   "source": [
    "v1 is v3\n",
    "#False"
   ]
  },
  {
   "cell_type": "markdown",
   "id": "761996d0",
   "metadata": {},
   "source": [
    "### Check __abs__ and __bool__"
   ]
  },
  {
   "cell_type": "code",
   "execution_count": 25,
   "id": "a4f4b50e",
   "metadata": {},
   "outputs": [
    {
     "data": {
      "text/plain": [
       "5.0"
      ]
     },
     "execution_count": 25,
     "metadata": {},
     "output_type": "execute_result"
    }
   ],
   "source": [
    "v1 = Vector([3.0, 4.0])\n",
    "abs(v1)\n",
    "#5.0"
   ]
  },
  {
   "cell_type": "code",
   "execution_count": 26,
   "id": "aa181235",
   "metadata": {},
   "outputs": [
    {
     "data": {
      "text/plain": [
       "False"
      ]
     },
     "execution_count": 26,
     "metadata": {},
     "output_type": "execute_result"
    }
   ],
   "source": [
    "v2 = Vector([0.0, 0.0, 0.0])\n",
    "bool(v1)\n",
    "#False"
   ]
  },
  {
   "cell_type": "code",
   "execution_count": 27,
   "id": "0f5cd555",
   "metadata": {},
   "outputs": [
    {
     "data": {
      "text/plain": [
       "True"
      ]
     },
     "execution_count": 27,
     "metadata": {},
     "output_type": "execute_result"
    }
   ],
   "source": [
    "bool(v2)\n",
    "#True"
   ]
  },
  {
   "cell_type": "markdown",
   "id": "b8f11f3a",
   "metadata": {},
   "source": [
    "### Check __add__, __mul__ and __rmul__"
   ]
  },
  {
   "cell_type": "code",
   "execution_count": 28,
   "id": "aab25dc0",
   "metadata": {},
   "outputs": [
    {
     "data": {
      "text/plain": [
       "Vector([9.0, 11.0, 13.0])"
      ]
     },
     "execution_count": 28,
     "metadata": {},
     "output_type": "execute_result"
    }
   ],
   "source": [
    "v1 = Vector([3, 4, 5])\n",
    "v2 = Vector([6, 7, 8])\n",
    "v1 + v2\n",
    "\n",
    "#Vector([9.0, 11.0, 13.0])"
   ]
  },
  {
   "cell_type": "code",
   "execution_count": 29,
   "id": "a3d5993a",
   "metadata": {},
   "outputs": [
    {
     "data": {
      "text/plain": [
       "Vector([6.0, 8.0, 10.0])"
      ]
     },
     "execution_count": 29,
     "metadata": {},
     "output_type": "execute_result"
    }
   ],
   "source": [
    "v1 * 2\n",
    "#Vector([6.0, 8.0, 10.0])"
   ]
  },
  {
   "cell_type": "code",
   "execution_count": 30,
   "id": "394576bb",
   "metadata": {
    "scrolled": true
   },
   "outputs": [
    {
     "data": {
      "text/plain": [
       "Vector([6.0, 8.0, 10.0])"
      ]
     },
     "execution_count": 30,
     "metadata": {},
     "output_type": "execute_result"
    }
   ],
   "source": [
    "2 * v1\n",
    "#Vector([6.0, 8.0, 10.0])"
   ]
  },
  {
   "cell_type": "code",
   "execution_count": 31,
   "id": "7aaf996a",
   "metadata": {
    "scrolled": true
   },
   "outputs": [
    {
     "ename": "TypeError",
     "evalue": "unsupported operand type(s) for +: 'Vector' and 'int'",
     "output_type": "error",
     "traceback": [
      "\u001b[0;31m---------------------------------------------------------------------------\u001b[0m",
      "\u001b[0;31mTypeError\u001b[0m                                 Traceback (most recent call last)",
      "Cell \u001b[0;32mIn [31], line 1\u001b[0m\n\u001b[0;32m----> 1\u001b[0m \u001b[43mv1\u001b[49m\u001b[43m \u001b[49m\u001b[38;5;241;43m+\u001b[39;49m\u001b[43m \u001b[49m\u001b[38;5;241;43m2\u001b[39;49m\n",
      "\u001b[0;31mTypeError\u001b[0m: unsupported operand type(s) for +: 'Vector' and 'int'"
     ]
    }
   ],
   "source": [
    "v1 + 2\n",
    "#TypeError: unsupported operand type(s) for +: 'Vector' and 'int'"
   ]
  },
  {
   "cell_type": "markdown",
   "id": "59865abe",
   "metadata": {},
   "source": [
    "### Check __getattr__"
   ]
  },
  {
   "cell_type": "code",
   "execution_count": 32,
   "id": "61448bc4",
   "metadata": {},
   "outputs": [
    {
     "data": {
      "text/plain": [
       "0.0"
      ]
     },
     "execution_count": 32,
     "metadata": {},
     "output_type": "execute_result"
    }
   ],
   "source": [
    "v1 = Vector(range(4))\n",
    "v1.x\n",
    "#0.0"
   ]
  },
  {
   "cell_type": "code",
   "execution_count": 33,
   "id": "844ac0b9",
   "metadata": {},
   "outputs": [
    {
     "data": {
      "text/plain": [
       "(1.0, 2.0, 3.0)"
      ]
     },
     "execution_count": 33,
     "metadata": {},
     "output_type": "execute_result"
    }
   ],
   "source": [
    "v1.y, v1.z, v1.t\n",
    "#(1.0, 2.0, 3.0)"
   ]
  },
  {
   "cell_type": "code",
   "execution_count": 34,
   "id": "feceb316",
   "metadata": {},
   "outputs": [
    {
     "data": {
      "text/plain": [
       "(0.0, 1.0, 2.0)"
      ]
     },
     "execution_count": 34,
     "metadata": {},
     "output_type": "execute_result"
    }
   ],
   "source": [
    "v2 = Vector(range(3))\n",
    "v2.x, v2.y, v2.z\n",
    "#(0.0, 1.0, 2.0)"
   ]
  },
  {
   "cell_type": "code",
   "execution_count": 35,
   "id": "be01e090",
   "metadata": {
    "scrolled": true
   },
   "outputs": [
    {
     "ename": "AttributeError",
     "evalue": "'Vector' object has no attribute 't'",
     "output_type": "error",
     "traceback": [
      "\u001b[0;31m---------------------------------------------------------------------------\u001b[0m",
      "\u001b[0;31mAttributeError\u001b[0m                            Traceback (most recent call last)",
      "Cell \u001b[0;32mIn [35], line 1\u001b[0m\n\u001b[0;32m----> 1\u001b[0m \u001b[43mv2\u001b[49m\u001b[38;5;241;43m.\u001b[39;49m\u001b[43mt\u001b[49m\n",
      "Cell \u001b[0;32mIn [12], line 74\u001b[0m, in \u001b[0;36mVector.__getattr__\u001b[0;34m(self, item)\u001b[0m\n\u001b[1;32m     72\u001b[0m d \u001b[38;5;241m=\u001b[39m {\u001b[38;5;124m'\u001b[39m\u001b[38;5;124mx\u001b[39m\u001b[38;5;124m'\u001b[39m: \u001b[38;5;241m0\u001b[39m, \u001b[38;5;124m'\u001b[39m\u001b[38;5;124my\u001b[39m\u001b[38;5;124m'\u001b[39m: \u001b[38;5;241m1\u001b[39m, \u001b[38;5;124m'\u001b[39m\u001b[38;5;124mz\u001b[39m\u001b[38;5;124m'\u001b[39m: \u001b[38;5;241m2\u001b[39m, \u001b[38;5;124m'\u001b[39m\u001b[38;5;124mt\u001b[39m\u001b[38;5;124m'\u001b[39m: \u001b[38;5;241m3\u001b[39m}\n\u001b[1;32m     73\u001b[0m \u001b[38;5;28;01mif\u001b[39;00m ((\u001b[38;5;28mself\u001b[39m\u001b[38;5;241m.\u001b[39mlength \u001b[38;5;241m-\u001b[39m \u001b[38;5;241m1\u001b[39m) \u001b[38;5;241m<\u001b[39m d[item]):\n\u001b[0;32m---> 74\u001b[0m     \u001b[38;5;28;01mraise\u001b[39;00m \u001b[38;5;167;01mAttributeError\u001b[39;00m(\u001b[38;5;124m\"\u001b[39m\u001b[38;5;124m'\u001b[39m\u001b[38;5;124mVector\u001b[39m\u001b[38;5;124m'\u001b[39m\u001b[38;5;124m object has no attribute \u001b[39m\u001b[38;5;124m'\u001b[39m\u001b[38;5;132;01m{}\u001b[39;00m\u001b[38;5;124m'\u001b[39m\u001b[38;5;124m\"\u001b[39m\u001b[38;5;241m.\u001b[39mformat(item))\n\u001b[1;32m     75\u001b[0m \u001b[38;5;28;01melif\u001b[39;00m (\u001b[38;5;28mself\u001b[39m\u001b[38;5;241m.\u001b[39mlength \u001b[38;5;241m>\u001b[39m \u001b[38;5;241m4\u001b[39m):\n\u001b[1;32m     76\u001b[0m     \u001b[38;5;28;01mraise\u001b[39;00m \u001b[38;5;167;01mAttributeError\u001b[39;00m\n",
      "\u001b[0;31mAttributeError\u001b[0m: 'Vector' object has no attribute 't'"
     ]
    }
   ],
   "source": [
    "v2.t\n",
    "#AttributeError: 'Vector' object has no attribute 't'"
   ]
  },
  {
   "cell_type": "markdown",
   "id": "252ff9f2",
   "metadata": {},
   "source": [
    "### Check __hash__"
   ]
  },
  {
   "cell_type": "code",
   "execution_count": 37,
   "id": "fdad3ac8",
   "metadata": {},
   "outputs": [
    {
     "data": {
      "text/plain": [
       "{Vector([0.0, 1.0, 2.0]): 'abc', Vector([3.0, 4.0, 5.0]): 'def'}"
      ]
     },
     "execution_count": 37,
     "metadata": {},
     "output_type": "execute_result"
    }
   ],
   "source": [
    "v1 = Vector([0, 1, 2])\n",
    "v2 = Vector([3, 4, 5])\n",
    "d = {}\n",
    "d[v1] = 'abc'\n",
    "d[v2] = 'def'\n",
    "d\n",
    "#{Vector([0.0, 1.0, 2.0]): 'abc', Vector([3.0, 4.0, 5.0]): 'def'}"
   ]
  },
  {
   "cell_type": "markdown",
   "id": "aab23444",
   "metadata": {},
   "source": [
    "# 2. Класс Key2StrDict"
   ]
  },
  {
   "cell_type": "markdown",
   "id": "189e740c",
   "metadata": {},
   "source": [
    "Реализуйте класс `Key2StrDict`, работающий как словарь, но преобразующий все поступающие ключи в строки. Если ключ отсутствует в словаре, объект должен возвращать число `0`. Для реализации может быть удобно (но не необходимо) отнаследоваться от класса `collections.UserDict`. В этом случае достаточно реализовать методы `__missing__`, `__contains__` и `__setitem__`.\n",
    "\n",
    "```\n",
    ">>> d = Key2StrDict([('abc', 2), ((1,), 0)])\n",
    ">>> data = [2, 3.14, frozenset([1, 2, 2]), (1, 5, 6, 8), 2, 2, frozenset([2, 1, 1])]\n",
    ">>> for t in data:\n",
    "...     d[t] += 1\n",
    ">>> d\n",
    "{'abc': 2, '(1,)': 0, '2': 3, '3.14': 1, 'frozenset({1, 2})': 2, '(1, 5, 6, 8)': 1}\n",
    "```"
   ]
  },
  {
   "cell_type": "code",
   "execution_count": 106,
   "id": "b255e759",
   "metadata": {},
   "outputs": [],
   "source": [
    "from collections import UserDict \n",
    "\n",
    "class Key2StrDict(UserDict): \n",
    "    def __missing__(self, key):\n",
    "        self.data[str(key)] = 0\n",
    "        return 0\n",
    "\n",
    "    def __contains__(self, key):\n",
    "        return key in self.mydict\n",
    "    \n",
    "    def __setitem__(self, key, value):\n",
    "        return super().__setitem__(str(key), value)"
   ]
  },
  {
   "cell_type": "code",
   "execution_count": 107,
   "id": "e6e1315c",
   "metadata": {},
   "outputs": [
    {
     "data": {
      "text/plain": [
       "{'abc': 2, '(1,)': 0, '2': 3, '3.14': 1, 'frozenset({1, 2})': 2, '(1, 5, 6, 8)': 1}"
      ]
     },
     "execution_count": 107,
     "metadata": {},
     "output_type": "execute_result"
    }
   ],
   "source": [
    "d = Key2StrDict([('abc', 2), ((1,), 0)])\n",
    "data = [2, 3.14, frozenset([1, 2, 2]), (1, 5, 6, 8), 2, 2, frozenset([2, 1, 1])]\n",
    "for t in data:\n",
    "    d[str(t)] += 1\n",
    "d\n",
    "\n",
    "#{'abc': 2, '(1,)': 0, '2': 3, '3.14': 1, 'frozenset({1, 2})': 2, '(1, 5, 6, 8)': 1}"
   ]
  },
  {
   "cell_type": "markdown",
   "id": "18cb3c21",
   "metadata": {},
   "source": [
    "# 3. Измерение времени работы"
   ]
  },
  {
   "cell_type": "markdown",
   "id": "628283e4",
   "metadata": {},
   "source": [
    "В этом задании нам предстоит решать задачу поиска объекта в множестве и измерять время работы этой операции. Искать мы будем вещественные числа в множестве вещественных чисел. Для этого\n",
    "\n",
    "1. Сгенерируйте множество чисел, которые мы будем искать (обозначим его `t`, но в коде вы можете назвать его как хотите) и множество чисел, среди которых мы будем искать (`s`). Размер множества `t` должен быть равен 1,000, а размер множества `s` будет варьироваться. Пересечение множеств `t` и `s` должно состоять ровно из 500 элементов. При этом элементы должны быть случайным образом разбросаны, то есть, например, элементы из пересечение не должны лежать в `s` первыми.\n",
    "\n",
    "2. Реализуйте поиск с помощью списков. Например, таким образом\n",
    "\n",
    "```\n",
    "found = 0\n",
    "for n in t:\n",
    "    if n in s:\n",
    "        found += 1\n",
    "```\n",
    "\n",
    "3. Реализуйте поиск с помощью словаря (`dict`). Для создания словаря с ключами без значений стоит использовать метод `fromkeys()`.\n",
    "\n",
    "4. Реализуйте поиск с помощью множеств (`set`), аналогичный пункту 2.\n",
    "\n",
    "5. Реализуйте поиск с помощью множеств (`set`), используя пересечения\n",
    "\n",
    "```\n",
    "found = len(t & s)\n",
    "```\n",
    "\n",
    "6. Варьируя размер множества `s` от $10^3$ до $10^7$ с шагом в 10 раз проведите измерения времени для всех 4 описанных методов поиска. Для каждого из методов измерьте его время работы и во сколько раз произошло замедление метода относительно наименьшего размера (1,000). Времена на создание структур данных считать не нужно, только время поиска. Для измерения времени используйте магическую команду `%timeit` Постройте таблицу с результатами (желательно в `pandas`).\n",
    "\n",
    "7. Сделайте выводы об асимптотической сложности. Выводы сделайте обязательно, но устно и просто их запомните, не надо писать здесь сочинения, пожалуйста."
   ]
  },
  {
   "cell_type": "code",
   "execution_count": 164,
   "id": "4f97447a",
   "metadata": {},
   "outputs": [],
   "source": [
    "import timeit\n",
    "\n",
    "def List(s, t):\n",
    "    found = 0\n",
    "    for n in t:\n",
    "        if n in s:\n",
    "            found += 1\n",
    "    return found\n",
    "\n",
    "def Dict(s, t):\n",
    "    t_dict = dict.fromkeys(t)\n",
    "    s_dict = dict.fromkeys(s)\n",
    "\n",
    "    found = 0\n",
    "    for n in t_dict.keys():\n",
    "        if n in s_dict.keys():\n",
    "            found += 1\n",
    "    return found\n",
    "\n",
    "def Set(s, t):\n",
    "    found = 0\n",
    "    for n in t:\n",
    "        if n in s:\n",
    "            found += 1\n",
    "    return found\n",
    "\n",
    "def Set_Cross(s, t):\n",
    "    return len(t & s)\n",
    "\n",
    "time = [[0 for x in range(4)] for y in range(5)]"
   ]
  },
  {
   "cell_type": "code",
   "execution_count": 165,
   "id": "7cb6c7ea",
   "metadata": {},
   "outputs": [],
   "source": [
    "t = set()\n",
    "s = set()\n",
    "\n",
    "for i in range (1000):\n",
    "    t.add(i)\n",
    "    if (i < 1000):\n",
    "        if (i % 2 == 0):\n",
    "            s.add(i)\n",
    "        else:\n",
    "            for j in range (10):\n",
    "                s.add(-i - j)"
   ]
  },
  {
   "cell_type": "code",
   "execution_count": 166,
   "id": "f1532435",
   "metadata": {},
   "outputs": [
    {
     "data": {
      "text/plain": [
       "500"
      ]
     },
     "execution_count": 166,
     "metadata": {},
     "output_type": "execute_result"
    }
   ],
   "source": [
    "List(s, t)"
   ]
  },
  {
   "cell_type": "code",
   "execution_count": 167,
   "id": "8e9bc7d1",
   "metadata": {},
   "outputs": [],
   "source": [
    "time[0][0] = timeit.timeit(lambda: List(s, t), number = 10)\n",
    "time[0][1] = timeit.timeit(lambda: Dict(s, t), number = 10)\n",
    "time[0][2] = timeit.timeit(lambda: Set(s, t), number = 10)\n",
    "time[0][3] = timeit.timeit(lambda: Set_Cross(s, t), number = 10)"
   ]
  },
  {
   "cell_type": "code",
   "execution_count": 168,
   "id": "004b5914",
   "metadata": {},
   "outputs": [],
   "source": [
    "t = set()\n",
    "s = set()\n",
    "\n",
    "for i in range (10000):\n",
    "    t.add(i)\n",
    "    if (i < 1000):\n",
    "        if (i % 2 == 0):\n",
    "            s.add(i)\n",
    "        else:\n",
    "            for j in range (10):\n",
    "                s.add(-i - j)"
   ]
  },
  {
   "cell_type": "code",
   "execution_count": 169,
   "id": "ba8e93f7",
   "metadata": {},
   "outputs": [
    {
     "data": {
      "text/plain": [
       "500"
      ]
     },
     "execution_count": 169,
     "metadata": {},
     "output_type": "execute_result"
    }
   ],
   "source": [
    "Dict(s, t)"
   ]
  },
  {
   "cell_type": "code",
   "execution_count": 170,
   "id": "33d2d5d3",
   "metadata": {},
   "outputs": [],
   "source": [
    "time[1][0] = timeit.timeit(lambda: List(s, t), number = 10)\n",
    "time[1][1] = timeit.timeit(lambda: Dict(s, t), number = 10)\n",
    "time[1][2] = timeit.timeit(lambda: Set(s, t), number = 10)\n",
    "time[1][3] = timeit.timeit(lambda: Set_Cross(s, t), number = 10)"
   ]
  },
  {
   "cell_type": "code",
   "execution_count": 171,
   "id": "78d02137",
   "metadata": {},
   "outputs": [],
   "source": [
    "t = set()\n",
    "s = set()\n",
    "\n",
    "for i in range (100000):\n",
    "    t.add(i)\n",
    "    if (i < 1000):\n",
    "        if (i % 2 == 0):\n",
    "            s.add(i)\n",
    "        else:\n",
    "            for j in range (10):\n",
    "                s.add(-i - j)"
   ]
  },
  {
   "cell_type": "code",
   "execution_count": 172,
   "id": "c3ffe9e5",
   "metadata": {},
   "outputs": [
    {
     "data": {
      "text/plain": [
       "500"
      ]
     },
     "execution_count": 172,
     "metadata": {},
     "output_type": "execute_result"
    }
   ],
   "source": [
    "Set(s, t)"
   ]
  },
  {
   "cell_type": "code",
   "execution_count": 173,
   "id": "3b25ceaf",
   "metadata": {},
   "outputs": [],
   "source": [
    "time[2][0] = timeit.timeit(lambda: List(s, t), number = 10)\n",
    "time[2][1] = timeit.timeit(lambda: Dict(s, t), number = 10)\n",
    "time[2][2] = timeit.timeit(lambda: Set(s, t), number = 10)\n",
    "time[2][3] = timeit.timeit(lambda: Set_Cross(s, t), number = 10)"
   ]
  },
  {
   "cell_type": "code",
   "execution_count": 174,
   "id": "b3dec260",
   "metadata": {},
   "outputs": [],
   "source": [
    "t = set()\n",
    "s = set()\n",
    "\n",
    "for i in range (1000000):\n",
    "    t.add(i)\n",
    "    t.add(i)\n",
    "    if (i < 1000):\n",
    "        if (i % 2 == 0):\n",
    "            s.add(i)\n",
    "        else:\n",
    "            for j in range (10):\n",
    "                s.add(-i - j)"
   ]
  },
  {
   "cell_type": "code",
   "execution_count": 175,
   "id": "a02311ad",
   "metadata": {},
   "outputs": [
    {
     "data": {
      "text/plain": [
       "500"
      ]
     },
     "execution_count": 175,
     "metadata": {},
     "output_type": "execute_result"
    }
   ],
   "source": [
    "Set_Cross(s, t)"
   ]
  },
  {
   "cell_type": "code",
   "execution_count": 176,
   "id": "887538e2",
   "metadata": {},
   "outputs": [],
   "source": [
    "time[3][0] = timeit.timeit(lambda: List(s, t), number = 10)\n",
    "time[3][1] = timeit.timeit(lambda: Dict(s, t), number = 10)\n",
    "time[3][2] = timeit.timeit(lambda: Set(s, t), number = 10)\n",
    "time[3][3] = timeit.timeit(lambda: Set_Cross(s, t), number = 10)"
   ]
  },
  {
   "cell_type": "code",
   "execution_count": 177,
   "id": "52f5614b",
   "metadata": {
    "scrolled": true
   },
   "outputs": [],
   "source": [
    "t = set()\n",
    "s = set()\n",
    "\n",
    "for i in range (10000000):\n",
    "    t.add(i)\n",
    "    t.add(i)\n",
    "    if (i < 1000):\n",
    "        if (i % 2 == 0):\n",
    "            s.add(i)\n",
    "        else:\n",
    "            for j in range (10):\n",
    "                s.add(-i - j)"
   ]
  },
  {
   "cell_type": "code",
   "execution_count": 178,
   "id": "a00b9348",
   "metadata": {},
   "outputs": [
    {
     "data": {
      "text/plain": [
       "500"
      ]
     },
     "execution_count": 178,
     "metadata": {},
     "output_type": "execute_result"
    }
   ],
   "source": [
    "Set_Cross(s, t)"
   ]
  },
  {
   "cell_type": "code",
   "execution_count": 179,
   "id": "2138b1ea",
   "metadata": {},
   "outputs": [],
   "source": [
    "time[4][0] = timeit.timeit(lambda: List(s, t), number = 10)\n",
    "time[4][1] = timeit.timeit(lambda: Dict(s, t), number = 10)\n",
    "time[4][2] = timeit.timeit(lambda: Set(s, t), number = 10)\n",
    "time[4][3] = timeit.timeit(lambda: Set_Cross(s, t), number = 10)"
   ]
  },
  {
   "cell_type": "code",
   "execution_count": null,
   "id": "783393a2",
   "metadata": {},
   "outputs": [],
   "source": [
    "[time[0][0], time[0][1], time[0][2], time[0][3], \n",
    "                   time[1][0], time[1][1], time[1][2], time[1][3],\n",
    "                   time[2][0], time[2][1], time[2][2], time[2][3], \n",
    "                   time[3][0], time[3][1], time[3][2], time[3][3],\n",
    "                   time[4][0], time[4][1], time[4][2], time[4][3]]"
   ]
  },
  {
   "cell_type": "markdown",
   "id": "4fa5489d",
   "metadata": {},
   "source": [
    "### Таблица результатов"
   ]
  },
  {
   "cell_type": "code",
   "execution_count": 187,
   "id": "50dee749",
   "metadata": {
    "scrolled": false
   },
   "outputs": [
    {
     "data": {
      "text/html": [
       "<div>\n",
       "<style scoped>\n",
       "    .dataframe tbody tr th:only-of-type {\n",
       "        vertical-align: middle;\n",
       "    }\n",
       "\n",
       "    .dataframe tbody tr th {\n",
       "        vertical-align: top;\n",
       "    }\n",
       "\n",
       "    .dataframe thead th {\n",
       "        text-align: right;\n",
       "    }\n",
       "</style>\n",
       "<table border=\"1\" class=\"dataframe\">\n",
       "  <thead>\n",
       "    <tr style=\"text-align: right;\">\n",
       "      <th></th>\n",
       "      <th></th>\n",
       "      <th>Время работы метода</th>\n",
       "    </tr>\n",
       "    <tr>\n",
       "      <th>Размер множества s</th>\n",
       "      <th>Метод</th>\n",
       "      <th></th>\n",
       "    </tr>\n",
       "  </thead>\n",
       "  <tbody>\n",
       "    <tr>\n",
       "      <th rowspan=\"4\" valign=\"top\">1 000 000</th>\n",
       "      <th>Мн-вo с исп-ем пересечения</th>\n",
       "      <td>0.000469</td>\n",
       "    </tr>\n",
       "    <tr>\n",
       "      <th>Множества</th>\n",
       "      <td>4.942380</td>\n",
       "    </tr>\n",
       "    <tr>\n",
       "      <th>Словарь</th>\n",
       "      <td>1.212283</td>\n",
       "    </tr>\n",
       "    <tr>\n",
       "      <th>Списки</th>\n",
       "      <td>0.051726</td>\n",
       "    </tr>\n",
       "    <tr>\n",
       "      <th rowspan=\"4\" valign=\"top\">1 0000 000</th>\n",
       "      <th>Мн-вo с исп-ем пересечения</th>\n",
       "      <td>0.000210</td>\n",
       "    </tr>\n",
       "    <tr>\n",
       "      <th>Множества</th>\n",
       "      <td>0.416853</td>\n",
       "    </tr>\n",
       "    <tr>\n",
       "      <th>Словарь</th>\n",
       "      <td>0.112646</td>\n",
       "    </tr>\n",
       "    <tr>\n",
       "      <th>Списки</th>\n",
       "      <td>0.005492</td>\n",
       "    </tr>\n",
       "    <tr>\n",
       "      <th rowspan=\"4\" valign=\"top\">10 000</th>\n",
       "      <th>Списки</th>\n",
       "      <td>3.963394</td>\n",
       "    </tr>\n",
       "    <tr>\n",
       "      <th>Словарь</th>\n",
       "      <td>0.004224</td>\n",
       "    </tr>\n",
       "    <tr>\n",
       "      <th>Множества</th>\n",
       "      <td>0.006112</td>\n",
       "    </tr>\n",
       "    <tr>\n",
       "      <th>Мн-вo с исп-ем пересечения</th>\n",
       "      <td>0.000155</td>\n",
       "    </tr>\n",
       "    <tr>\n",
       "      <th rowspan=\"4\" valign=\"top\">100 000</th>\n",
       "      <th>Мн-вo с исп-ем пересечения</th>\n",
       "      <td>0.000470</td>\n",
       "    </tr>\n",
       "    <tr>\n",
       "      <th>Множества</th>\n",
       "      <td>0.000762</td>\n",
       "    </tr>\n",
       "    <tr>\n",
       "      <th>Словарь</th>\n",
       "      <td>15.549917</td>\n",
       "    </tr>\n",
       "    <tr>\n",
       "      <th>Списки</th>\n",
       "      <td>0.335626</td>\n",
       "    </tr>\n",
       "    <tr>\n",
       "      <th rowspan=\"4\" valign=\"top\">1000</th>\n",
       "      <th>Мн-вo с исп-ем пересечения</th>\n",
       "      <td>0.000160</td>\n",
       "    </tr>\n",
       "    <tr>\n",
       "      <th>Множества</th>\n",
       "      <td>0.031836</td>\n",
       "    </tr>\n",
       "    <tr>\n",
       "      <th>Словарь</th>\n",
       "      <td>0.018801</td>\n",
       "    </tr>\n",
       "    <tr>\n",
       "      <th>Списки</th>\n",
       "      <td>0.000677</td>\n",
       "    </tr>\n",
       "  </tbody>\n",
       "</table>\n",
       "</div>"
      ],
      "text/plain": [
       "                                               Время работы метода\n",
       "Размер множества s Метод                                          \n",
       "1 000 000          Мн-вo с исп-ем пересечения             0.000469\n",
       "                   Множества                              4.942380\n",
       "                   Словарь                                1.212283\n",
       "                   Списки                                 0.051726\n",
       "1 0000 000         Мн-вo с исп-ем пересечения             0.000210\n",
       "                   Множества                              0.416853\n",
       "                   Словарь                                0.112646\n",
       "                   Списки                                 0.005492\n",
       "10 000             Списки                                 3.963394\n",
       "                   Словарь                                0.004224\n",
       "                   Множества                              0.006112\n",
       "                   Мн-вo с исп-ем пересечения             0.000155\n",
       "100 000            Мн-вo с исп-ем пересечения             0.000470\n",
       "                   Множества                              0.000762\n",
       "                   Словарь                               15.549917\n",
       "                   Списки                                 0.335626\n",
       "1000               Мн-вo с исп-ем пересечения             0.000160\n",
       "                   Множества                              0.031836\n",
       "                   Словарь                                0.018801\n",
       "                   Списки                                 0.000677"
      ]
     },
     "execution_count": 187,
     "metadata": {},
     "output_type": "execute_result"
    }
   ],
   "source": [
    "for i in range(5):\n",
    "    for j in range (4):\n",
    "        Time [i] = time[i][j]\n",
    "df = pd.DataFrame({'Размер множества s': ['1000', '10 000', '100 000', '1 000 000', '1 0000 000'] * 4,\n",
    "                   'Метод': ['Списки', 'Словарь', 'Множества', 'Мн-вo с исп-ем пересечения'] * 5,\n",
    "                   'Время работы метода': [time[0][0], time[0][1], time[0][2], time[0][3], \n",
    "                   time[1][0], time[1][1], time[1][2], time[1][3],\n",
    "                   time[2][0], time[2][1], time[2][2], time[2][3], \n",
    "                   time[3][0], time[3][1], time[3][2], time[3][3],\n",
    "                   time[4][0], time[4][1], time[4][2], time[4][3]]\n",
    "                  })\n",
    "df.groupby(['Размер множества s', 'Метод']).sum().sort_values(by = ['Размер множества s'])\n"
   ]
  },
  {
   "cell_type": "markdown",
   "id": "e1a3f90c",
   "metadata": {},
   "source": [
    "### Вывод: исходя из данных, полученных в таблице, самым эффективным по времени является метод множеств с использованием пересечений"
   ]
  },
  {
   "cell_type": "markdown",
   "id": "1425df9b",
   "metadata": {},
   "source": [
    "#### Прошу прощения, табличка не очень удобная получилась :(("
   ]
  },
  {
   "cell_type": "markdown",
   "id": "13693a81",
   "metadata": {},
   "source": [
    "# 4. Какой-то алгоритм"
   ]
  },
  {
   "cell_type": "markdown",
   "id": "1e157d1b",
   "metadata": {},
   "source": [
    "Реализуйте алгоритм, который вам выдали на С++, на питоне. Пользоваться можно только стандартной библиотекой питона, использовать `numpy` пока нельзя. К реализации обязательно должна прилагаться проверка корректности работы. Например, если вы реализуете $QR$-разложение, то нужно проверить, что\n",
    "1. $R$ - верхняя треугольная;\n",
    "2. $Q$ - ортогональная;\n",
    "3. $A = QR$.\n",
    "\n",
    "Получившийся код нужно прогнать через профилировщик."
   ]
  },
  {
   "cell_type": "markdown",
   "id": "6c8f9f2c",
   "metadata": {},
   "source": [
    "### QR-разложение матриц вращениями Гивенса"
   ]
  },
  {
   "cell_type": "markdown",
   "id": "5eb832e1",
   "metadata": {},
   "source": [
    "### Функции"
   ]
  },
  {
   "cell_type": "code",
   "execution_count": 289,
   "id": "831e0a0f",
   "metadata": {},
   "outputs": [],
   "source": [
    "import math\n",
    "\n",
    "def Rotation(_n, _i, _j, _c, _s, A):\n",
    "    for k in range(_n):\n",
    "        Aik = _c * A[i][k] - _s * A[j][k]\n",
    "        Ajk = _s * A[i][k] + _c * A[j][k]\n",
    "        A[i][k] = Aik\n",
    "        A[j][k] = Ajk\n",
    "        \n",
    "def Transpose(_n, Q):\n",
    "    for i in range(_n):\n",
    "        for j in range(i, _n):\n",
    "            t = Q[i][j]\n",
    "            Q[i][j] = Q[j][i]\n",
    "            Q[j][i] = t"
   ]
  },
  {
   "cell_type": "markdown",
   "id": "4ac4536f",
   "metadata": {},
   "source": [
    "### main"
   ]
  },
  {
   "cell_type": "code",
   "execution_count": 290,
   "id": "4b20b2bb",
   "metadata": {},
   "outputs": [
    {
     "name": "stdout",
     "output_type": "stream",
     "text": [
      "A = [[4, 10, 8], [4, 2, 1], [1, 5, 5]]\n"
     ]
    }
   ],
   "source": [
    "import random  \n",
    "\n",
    "n = 3\n",
    "A = [[0 for x in range(n)] for y in range(n)]\n",
    "_A = [[0 for x in range(n)] for y in range(n)]\n",
    "Q = [[0 for x in range(n)] for y in range(n)]\n",
    "R = [[0 for x in range(n)] for y in range(n)]\n",
    "\n",
    "# заполнение исходной матрицы А случайными числами\n",
    "for i in range(n):\n",
    "    for j in range(n):\n",
    "        A[i][j] = random.randint(0,10)\n",
    "print(\"A =\", A) \n",
    "\n",
    "# заполнение матрицы матрицы _A (= A)\n",
    "for i in range(n):\n",
    "    for j in range(n):\n",
    "        _A[i][j] = A[i][j]\n",
    "\n",
    "# заполнение матрицы матрицы Q (= I)\n",
    "for i in range(n):\n",
    "    for j in range(n):\n",
    "        if(i == j):\n",
    "            Q[i][j] = 1\n",
    "        else:\n",
    "            Q[i][j] = 0\n",
    "\n",
    "# заполнение матрицы матрицы R (= A)\n",
    "for i in range(n):\n",
    "    for j in range(n):\n",
    "        R[i][j] = A[i][j]\n",
    "        \n",
    "# вращение матриц \n",
    "for i in range(n - 1):\n",
    "    for j in range((i + 1), n):\n",
    "        norm = math.sqrt(_A[i][i]**2 + _A[j][i]**2)\n",
    "        c = +_A[i][i] / norm\n",
    "        s = -_A[j][i] / norm\n",
    "        Rotation(n, i, j, c, s, _A)\n",
    "        Rotation(n, i, j, c, s, Q)\n",
    "        Rotation(n, i, j, c, s, R)\n",
    "Transpose(n, Q)"
   ]
  },
  {
   "cell_type": "markdown",
   "id": "635df3c0",
   "metadata": {},
   "source": [
    "### Проверка: Q - унитарная"
   ]
  },
  {
   "cell_type": "code",
   "execution_count": 291,
   "id": "4b900c7f",
   "metadata": {},
   "outputs": [
    {
     "name": "stdout",
     "output_type": "stream",
     "text": [
      "[[0.9999999999999998, 8.326672684688674e-17, 0.0], [8.326672684688674e-17, 0.9999999999999997, 2.7755575615628914e-17], [0.0, 2.7755575615628914e-17, 1.0]]\n"
     ]
    }
   ],
   "source": [
    "I = [[0 for x in range(n)] for y in range(n)]\n",
    "for i in range(n):\n",
    "    for j in range(n):       \n",
    "        I[i][j] = sum(Q[i][k] * Q[j][k] for k in range(n))\n",
    "print(I)"
   ]
  },
  {
   "cell_type": "markdown",
   "id": "e225ae0a",
   "metadata": {},
   "source": [
    "### Проверка: R - верхняя треугольная"
   ]
  },
  {
   "cell_type": "code",
   "execution_count": 292,
   "id": "147fe33d",
   "metadata": {},
   "outputs": [
    {
     "name": "stdout",
     "output_type": "stream",
     "text": [
      "Weeee are the champions!!\n"
     ]
    }
   ],
   "source": [
    "for i in range (1, n):\n",
    "    for j in range (0, i):\n",
    "        if (abs(R[i][j]) > 0.000001):\n",
    "            print('Not triangl')\n",
    "print('Weeee are the champions!!')"
   ]
  },
  {
   "cell_type": "markdown",
   "id": "da8fc846",
   "metadata": {},
   "source": [
    "### Проверка: A = QR"
   ]
  },
  {
   "cell_type": "code",
   "execution_count": 293,
   "id": "7d55b44a",
   "metadata": {},
   "outputs": [
    {
     "name": "stdout",
     "output_type": "stream",
     "text": [
      "Great!\n"
     ]
    }
   ],
   "source": [
    "QR = [[0 for x in range(n)] for y in range(n)]\n",
    "for i in range(n):\n",
    "    for j in range(n):       \n",
    "        QR[i][j] = sum(Q[i][k] * R[k][j] for k in range(n))\n",
    "        if (abs(A[i][j] - QR[i][j]) > 0.000001):\n",
    "            print('Not equal!')\n",
    "print('Great!')"
   ]
  }
 ],
 "metadata": {
  "kernelspec": {
   "display_name": "Python 3",
   "language": "python",
   "name": "python3"
  },
  "language_info": {
   "codemirror_mode": {
    "name": "ipython",
    "version": 3
   },
   "file_extension": ".py",
   "mimetype": "text/x-python",
   "name": "python",
   "nbconvert_exporter": "python",
   "pygments_lexer": "ipython3",
   "version": "3.8.8"
  },
  "latex_envs": {
   "LaTeX_envs_menu_present": true,
   "autoclose": false,
   "autocomplete": true,
   "bibliofile": "biblio.bib",
   "cite_by": "apalike",
   "current_citInitial": 1,
   "eqLabelWithNumbers": true,
   "eqNumInitial": 1,
   "hotkeys": {
    "equation": "Ctrl-E",
    "itemize": "Ctrl-I"
   },
   "labels_anchors": false,
   "latex_user_defs": false,
   "report_style_numbering": false,
   "user_envs_cfg": false
  },
  "varInspector": {
   "cols": {
    "lenName": 16,
    "lenType": 16,
    "lenVar": 40
   },
   "kernels_config": {
    "python": {
     "delete_cmd_postfix": "",
     "delete_cmd_prefix": "del ",
     "library": "var_list.py",
     "varRefreshCmd": "print(var_dic_list())"
    },
    "r": {
     "delete_cmd_postfix": ") ",
     "delete_cmd_prefix": "rm(",
     "library": "var_list.r",
     "varRefreshCmd": "cat(var_dic_list()) "
    }
   },
   "types_to_exclude": [
    "module",
    "function",
    "builtin_function_or_method",
    "instance",
    "_Feature"
   ],
   "window_display": false
  }
 },
 "nbformat": 4,
 "nbformat_minor": 5
}

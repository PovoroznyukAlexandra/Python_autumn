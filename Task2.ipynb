{
 "cells": [
  {
   "cell_type": "markdown",
   "id": "1b798040",
   "metadata": {},
   "source": [
    "Во всех задания требуется написать эффективные реализации, используя функционал numpy. Использовать numba, вызывать код из C или использовать посторонние библиотеки запрещается. В заданиях указаны ориентировочные времена работы. Они могут отличаться на разных машинах, поэтому на вашем компьютере правильное решение может работать как быстрее, так и медленнее. Если в задании указано, что время работы 8 мин, а у вас работает 10, скорее всего, это не страшно. Если же указано 8 мин, а код работает 8 часов, это вряд ли можно списать на медленный компьютер."
   ]
  },
  {
   "cell_type": "markdown",
   "id": "c05df98c",
   "metadata": {},
   "source": [
    "# 1. Перебор параметров по сетке"
   ]
  },
  {
   "cell_type": "markdown",
   "id": "3ee7facc",
   "metadata": {},
   "source": [
    "Пусть задана функция вида $$ f(x) = \\dfrac{d \\log^a{(x)}}{1 + x^b e^{\\frac{-c}{x}}} $$\n",
    "Требуется восстановиться параметры $a, b, c$ и $d$ по значениям функции в узлах заданной сетки. Для этого:\n",
    "1. Выберете некоторые значения $a, b, c$ и $d$. Например, $a=1.2$, $b=0.4$, $c=1.5$, $d=1.0$;\n",
    "2. Сгенерируйте сетку, на которой будут вычисляться значение функции. Сетка должна содержать $1,000$ узлов. Например, хорошо подойдет равномерная сетка на отрезке $[1, 100]$ с $1,000$ узлов;\n",
    "3. Вычислите значения $f(x)$ в узлах сгенерированной сетки;\n",
    "4. Далее требуется восстановить величины $a, b, c$ и $d$ по значениям $f(x)$ в узлах сгенерированной сетки. Для этого сгенерируйте возможные наборы значений для параметров $a, b, c$ и $d$. Для каждого из параметров должно быть 100 (или 101, если удобнее) значений. Например, для приведенных выше значений хорошо подойдут равномерные сетки на отрезках $[1, 2]$, $[0, 1]$, $[1, 2]$ и $[0, 2]$ соответственно с 101 узлом каждая. Всего имеем $101^4$ комбинаций параметров. Требуется, перебирая всевозможные наборы параметров и вычисления значения функции в узлах сетки, найти те значения, которые будут обеспечивать минимум $l_2$ нормы разности правильного и построенного набора значений.\n",
    "\n",
    "Ориентировочное время работы при правильной организации перебора $-$ 8 мин.\n",
    "\n",
    "P.S. В задании требуется просто разумно реализовать перебор на numpy. Придумывать правильный алгоритм перебора, отсечения или как-либо еще \"по-умному\" производить оптимизацию не требуется."
   ]
  },
  {
   "cell_type": "code",
   "execution_count": 314,
   "id": "68987ce8",
   "metadata": {},
   "outputs": [],
   "source": [
    "import numpy as np\n",
    "\n",
    "a_0 = 1.2\n",
    "b_0 = 0.4\n",
    "c_0 = 1.5\n",
    "d_0 = 1.0\n",
    "\n",
    "def Znamen(x, b, c):\n",
    "    res = (np.exp(-c / x)).reshape(101, 1, 1000)\n",
    "    res = 1 / (1 + (grid ** b) * res)\n",
    "    return res\n",
    "\n",
    "def Chisl(x, a, d):\n",
    "    res = d * (np.log(x) ** a)\n",
    "    return res"
   ]
  },
  {
   "cell_type": "code",
   "execution_count": 315,
   "id": "da02dff4",
   "metadata": {},
   "outputs": [],
   "source": [
    "# равномерная сетка на отрезке [1,100] c 1000 узлов\n",
    "grid = np.linspace(1, 100, 1000).reshape(1, 1000)\n",
    "\n",
    "a = np.linspace(1, 2, 101)\n",
    "b = np.linspace(0, 1, 101)\n",
    "c = np.linspace(1, 2, 101)\n",
    "d = np.linspace(0, 2, 101)\n",
    "A = Znamen(grid, b.reshape(101, 1), c.reshape(101, 1))\n",
    "\n",
    "b0 = np.full((101, 1), b_0)\n",
    "c0 = np.full((101, 1), c_0)\n",
    "A0 = Znamen(grid, b0, c0)"
   ]
  },
  {
   "cell_type": "code",
   "execution_count": 316,
   "id": "99d501d6",
   "metadata": {},
   "outputs": [
    {
     "name": "stdout",
     "output_type": "stream",
     "text": [
      "Восстановленные величины:\n",
      "a =  1.2\n",
      "b =  0.4\n",
      "c =  1.5\n",
      "d =  1.0\n",
      "CPU times: user 11min 11s, sys: 3min 32s, total: 14min 43s\n",
      "Wall time: 14min 45s\n"
     ]
    }
   ],
   "source": [
    "%%time\n",
    "\n",
    "a_min = 0\n",
    "d_min = 0\n",
    "argmin = 0\n",
    "Min = np.inf\n",
    "\n",
    "for i in range(len(a)):\n",
    "    for j in range(len(d)):\n",
    "        diff = (Chisl(grid, a[i], d[j]) * A) - (Chisl(grid, a_0, d_0) * A0)\n",
    "        norm = np.linalg.norm(diff, axis=2)\n",
    "        if Min > np.min(norm):\n",
    "            Min = np.min(norm)\n",
    "            a_min = a[i]\n",
    "            d_min = d[j]\n",
    "            argmin = np.argmin(norm)\n",
    "c_b_min = np.unravel_index(argmin, (101, 101))\n",
    "\n",
    "print('Восстановленные величины:')\n",
    "print('a = ', a_min)\n",
    "print('b = ', b[c_b_min[1]])\n",
    "print('c = ', c[c_b_min[0]])\n",
    "print('d = ', d_min)"
   ]
  },
  {
   "cell_type": "markdown",
   "id": "a3bcd5b6",
   "metadata": {},
   "source": [
    "# 2. Преобразования тензоров"
   ]
  },
  {
   "cell_type": "markdown",
   "id": "ed490c63",
   "metadata": {},
   "source": [
    "1. Сгенерируйте случайный тензор (случайный numpy.array) размера $\\underbrace{2 \\times 2 \\times \\dots \\times 2}_\\text{16 раз}$.\n",
    "2. Последовательно произведите с ним следующую процедуру. Разбейте множители на пары: $$ (2 \\times 2) \\times (2 \\times 2) $$ и вычислите кронекерово произведение векторов в скобках. Повторяйте процедуру пока не останется один вектор. $$ 2 \\times 2 \\times 2 \\times 2 \\to (2 \\times 2) \\times (2 \\times 2) \\to 4 \\times 4 \\to (4 \\times 4) \\to 16 $$ В результате должен получиться вектор длины $2^{16}$.\n",
    "3. Из построенного вектора попробуйте восстановить исходное представление. А именно, пусть имеется вектор длины $16$. С помощью reshape его можно преобразовать к матрице $4 \\times 4$. Для матрицы $4 \\times 4$ постройте оптимальное одноранговое приближение - это будет произведение двух векторов размера 4. Для каждого из векторов длины 4 повторите операцию.\n",
    "$$ 16 \\to 4 \\times 4 \\to (2 \\times 2) \\times (2 \\times 2) \\to 2 \\times 2 \\times 2 \\times 2 $$\n",
    "\n",
    "Схема метода:\n",
    "<img src=\"Tensor2-1.png\" width=\"500\"/>\n",
    "<img src=\"Tensor3-1.png\" width=\"500\"/>\n",
    "\n",
    "(На самом деле это схема для чуть более сложного варианта, значок суммы можно игнорировать)"
   ]
  },
  {
   "cell_type": "code",
   "execution_count": 317,
   "id": "336bc11d",
   "metadata": {},
   "outputs": [],
   "source": [
    "import numpy as np\n",
    "\n",
    "def Divide(row):\n",
    "    if row.size == 2:\n",
    "        return row\n",
    "    n = np.int64(np.sqrt(len(row)))\n",
    "    u, s, v = np.linalg.svd(row.reshape((n, n)))\n",
    "    return np.vstack((Divide(u[:, 0] * s[0]), Divide(v[0, :])))"
   ]
  },
  {
   "cell_type": "code",
   "execution_count": 324,
   "id": "97c341ea",
   "metadata": {},
   "outputs": [],
   "source": [
    "old_tensor = np.random.rand(16, 2)"
   ]
  },
  {
   "cell_type": "code",
   "execution_count": 325,
   "id": "53e728b5",
   "metadata": {},
   "outputs": [
    {
     "name": "stdout",
     "output_type": "stream",
     "text": [
      "(8, 4)\n",
      "(4, 16)\n",
      "(2, 256)\n",
      "(65536,)\n"
     ]
    }
   ],
   "source": [
    "tensor = old_tensor.copy()\n",
    "chet_ind = np.arange(0, 16, 2)\n",
    "nechet_ind = np.arange(1, 16, 2)\n",
    "for i in 8, 4, 2:\n",
    "    array = np.kron(tensor[chet_ind][0], tensor[nechet_ind][0])\n",
    "    for j in range(1, i):\n",
    "        array = np.vstack((array, np.kron(tensor[chet_ind][j], tensor[nechet_ind][j])))\n",
    "    tensor = array\n",
    "    print(tensor.shape)\n",
    "    chet_ind = np.arange(0, i, 2)\n",
    "    nechet_ind = np.arange(1, i, 2)\n",
    "res = np.kron(tensor[0], tensor[1])   \n",
    "print(res.shape)"
   ]
  },
  {
   "cell_type": "code",
   "execution_count": 326,
   "id": "efcf0801",
   "metadata": {},
   "outputs": [
    {
     "name": "stdout",
     "output_type": "stream",
     "text": [
      "1.0842021724855044e-19\n",
      "3.2526065174565133e-19\n"
     ]
    }
   ],
   "source": [
    "t1 = np.einsum('a,b,c,d,e,f,g,h,i,j,k,l,m,n,o,p->abcdefghijklmnop', *Divide(res).tolist())\n",
    "t2 = np.einsum('a,b,c,d,e,f,g,h,i,j,k,l,m,n,o,p->abcdefghijklmnop', *old_tensor.tolist())\n",
    "print(np.max(t2.reshape(-1) - res))\n",
    "print(np.max(np.abs(t1 - t2)))"
   ]
  },
  {
   "cell_type": "markdown",
   "id": "d9cbb803",
   "metadata": {},
   "source": [
    "# 3. Метрика кластеризации"
   ]
  },
  {
   "cell_type": "markdown",
   "id": "399dc7c5",
   "metadata": {},
   "source": [
    "(Задание честно своровано из задач весеннего семестра по курсу машинного обучения)\n",
    "\n",
    "Требуется реализовать одну из классических метрик для оценки качества кластеризации. Задача кластеризации $-$ это, грубо говоря, задача разбить набор данных на классы похожих. В данном случае объектами будут вектора из $\\mathbb{R}^d$, а мерой похожести евклидово расстояние.\n",
    "<img src=\"clustering_intro_clustersamplegraph.jpg\" width=\"500\"/>\n",
    "\n",
    "Требуется эффективно реализовать метрику силуэт для оценки качества кластеризации. Для этого необходимо реализовать функцию, которая принимает numpy.array размера $n \\times d$, а также список меток размера $n$, где $n$ $-$ число элементов, а $d$ $-$ размерность пространства. Функция должна возвращать одно число $-$ значение метрики.\n",
    "\n",
    "Суть метрики заключается в оценке двух параметров, характеризующих выделенные кластеры — компактность и отделимость.\n",
    "\n",
    "Положим, что $C_i$ — номер кластера для объекта $i$.\n",
    "\n",
    "$s_i$ — компактность кластеризации объекта $i$ определяется как среднее расстояние от него до всех объектов\n",
    "того же кластера:\n",
    "$$ s_i = \\dfrac{1}{|\\{j: C_j = C_i\\}| - 1} \\sum\\limits_{j: C_j=C_i} \\|x_i - x_j\\| $$\n",
    "\n",
    "$d_i$ — отделимость кластеризации объекта $i$ определяется как среднее расстояние от него до всех объектов\n",
    "второго по близости кластера:\n",
    "$$ \\min\\limits_{C:C\\neq C_i} \\dfrac{1}{|\\{ j: C_j = C \\}|} \\sum\\limits_{j: C_j=C} \\|x_i - x_j\\| $$\n",
    "\n",
    "Тогда силуэт объекта i:\n",
    "$$ \\text{sil}_i = \\dfrac{d_i - s_i}{\\max{\\{d_i, s_i\\}}} $$\n",
    "\n",
    "И, наконец, коэффициент силуэта для выборки определяется как среднее силуэтов объектов:\n",
    "$$ S = \\dfrac{1}{n} \\sum\\limits_{i} \\text{sil}_i $$\n",
    "\n",
    "На следующем тесте\n",
    "```\n",
    "data, labels = np.array([[0.0, 0.0], [0.0, 1.0], [1.0, 0.0], [2.0, 2.0]]),\n",
    "               np.array([1, 0, 0, 1])\n",
    "```\n",
    "Результатом является `-0.15098532303997897`.\n",
    "\n",
    "На тесте\n",
    "```\n",
    "np.random.seed(1568)\n",
    "data = np.random.randn(5000, 1200)\n",
    "labels = np.random.randint(low=0, high=100, size=data.shape[0])\n",
    "```\n",
    "Результат работы равен `-0.006423534504746837`, а время работы составляет порядка 0.6с.\n",
    "\n",
    "Ваша реализация должна удовлетворять следующим требованиям:\n",
    "1. При вычислении не должно возникать warning, бесконечностей и nan-ов\n",
    "2. Используйте не более одного цикла\n",
    "3. Учтите, что метки кластеров могут идти не по порядку и принимать произвольные значения\n",
    "4. Если в данных присутствует один кластер, то считайте что силуэт равен 0\n",
    "5. Если $s_i = d_i = 0$, то $\\text{sil}_i = 0$"
   ]
  },
  {
   "cell_type": "code",
   "execution_count": 327,
   "id": "71425f5c",
   "metadata": {},
   "outputs": [],
   "source": [
    "import numpy as np\n",
    "import time\n",
    "\n",
    "def Sil(data, labels):\n",
    "    s = np.zeros(len(labels))\n",
    "    d = np.full(len(labels), np.inf)\n",
    "    \n",
    "    tmp = np.sum(data * data, axis=1).reshape((len(data), 1))\n",
    "    Sum = np.sum(data * data, axis=1) + tmp\n",
    "    norm = Sum - 2 * np.dot(data, data.T)\n",
    "    #norm = np.where(norm < 0, 0, np.sqrt(norm)) - почему тут был ворнинг?((\n",
    "    norm[norm < 0] = 0\n",
    "    norm = np.sqrt(norm)\n",
    "    #print (norm)\n",
    "    lab_uniq = np.unique(labels)\n",
    "    #print(lab_uniq)\n",
    "    #print(labels)\n",
    "    for i in range(len(lab_uniq)):\n",
    "        eq = labels == lab_uniq[i]\n",
    "        #print(eq)\n",
    "        matrix = norm[:, eq]\n",
    "        s[eq] = np.sum(matrix[eq], axis=1) / (np.sum(eq) - 1)\n",
    "        summ = np.sum(matrix, axis=1) / np.sum(eq)\n",
    "        summ[eq] = np.inf\n",
    "        d[summ < d] = summ[summ < d]\n",
    "    arr = np.zeros(len(labels))\n",
    "    arr[d > s] = d[d > s]\n",
    "    arr[(d <= s)] = s[(d <= s)]\n",
    "    return (np.sum((d - s) / arr) / len(labels))"
   ]
  },
  {
   "cell_type": "code",
   "execution_count": 328,
   "id": "dfa8dec3",
   "metadata": {},
   "outputs": [
    {
     "data": {
      "text/plain": [
       "-0.15098532303997897"
      ]
     },
     "execution_count": 328,
     "metadata": {},
     "output_type": "execute_result"
    }
   ],
   "source": [
    "data, labels = np.array([[0.0, 0.0], [0.0, 1.0], [1.0, 0.0], [2.0, 2.0]]), np.array([1, 0, 0, 1])\n",
    "Sil(data, labels)"
   ]
  },
  {
   "cell_type": "code",
   "execution_count": 329,
   "id": "611a54fc",
   "metadata": {},
   "outputs": [
    {
     "name": "stdout",
     "output_type": "stream",
     "text": [
      "1.46 s ± 58 ms per loop (mean ± std. dev. of 7 runs, 1 loop each)\n"
     ]
    }
   ],
   "source": [
    "%%timeit\n",
    "np.random.seed(1568)\n",
    "data = np.random.randn(5000, 1200)\n",
    "labels = np.random.randint(low=0, high=100, size=data.shape[0])\n",
    "\n",
    "Sil(data, labels)"
   ]
  },
  {
   "cell_type": "markdown",
   "id": "cc57eeae",
   "metadata": {},
   "source": [
    "# 4. Монотонная нелинейная функция"
   ]
  },
  {
   "cell_type": "markdown",
   "id": "8d854f2d",
   "metadata": {},
   "source": [
    "Рассмотрим произвольную монотонную непрерывную на отрезке $[-T, T]$ функцию $f(x)$. Ее можно приблизить кусочно-линейной непрерывной функцией $g(x)$ следующим образом. Построим равномерную сетку\n",
    "$$ x_0=-T, x_1, x_2, \\dots, x_{K-2}, x_{K-1} = T $$\n",
    "на отрезке $[-T, T]$ с $K$ узлами. Пусть $g(-T) = b_0$ и $g(x)$ линейна на отрезках $[x_{i-1}, x_i]$. Поскольку $g(x)$ непрерывна, она однозначно задается значениями $b_0$ и коэффицентами наклона $\\alpha_i$. Действительно,\n",
    "$$ g(x_0) = b_0 $$\n",
    "$$ g(x_i) = g(x_{i-1}) + \\alpha_{i-1} (x_i - x_{i-1}), ~~ i=1,\\dots,K-1 $$\n",
    "\n",
    "При этом на практике неотрицательные углы наклона часто удобно параметризовать как\n",
    "$$ \\alpha_i = \\log(1 + e^{v_i}) $$\n",
    "\n",
    "Пусть задано значение $b_0$ и набор $v_i$, $i=0, 1, \\dots, K-2$. Пусть также задан тензор $X$ значений $x_j$ произвольного размера. Гарантируется, что $-T \\le x_j \\le T$. Необходимо реализовать функцию, которая бы поэлементно вычисляла значения $g(X)$ (как это делают универсальные функции в numpy). Реализация не должна использовать циклов и сторонних библиотек, в том числе numba, `@vectorize` и прочее.\n",
    "\n",
    "Для демонстрации правильности работы визуализируйте график функции с помощью matplotlib для нескольких разумных частных случаев.\n",
    "\n",
    "Ориентировочное время работы для тензора $500 \\times 500 \\times 500$ и $K=1000$ равно 4.5с на 1 ядре."
   ]
  },
  {
   "cell_type": "code",
   "execution_count": 330,
   "id": "59b56993",
   "metadata": {},
   "outputs": [],
   "source": [
    "import numpy as np\n",
    "import matplotlib.pyplot as plt\n",
    "\n",
    "def func(X, b0, v, node, k):\n",
    "    alpha = np.log(1 + np.exp(v))\n",
    "    g = np.zeros(k)\n",
    "    g = alpha * np.diff(node)\n",
    "    g = np.insert(g, 0, b0)\n",
    "    g = np.cumsum(g)\n",
    "    ind = np.searchsorted(node, np.ravel(X), side='right') - 1\n",
    "    ind[ind >= k - 1] -= 1\n",
    "    g = g[ind] + alpha[ind] * (np.ravel(X) - node[ind])\n",
    "    g = np.reshape(g, X.shape)\n",
    "    return g"
   ]
  },
  {
   "cell_type": "code",
   "execution_count": 331,
   "id": "5b10d13f",
   "metadata": {},
   "outputs": [
    {
     "data": {
      "image/png": "[encoded data removed]",
      "text/plain": [
       "<Figure size 720x360 with 1 Axes>"
      ]
     },
     "metadata": {
      "needs_background": "light"
     },
     "output_type": "display_data"
    }
   ],
   "source": [
    "K = 1000\n",
    "T = np.pi / 2\n",
    "b0 = 0\n",
    "\n",
    "X = np.linspace(-T, T, K + 1)\n",
    "v = (np.sin(X[1:]) - np.sin(X[:-1])) / (X[1:] - X[:-1])\n",
    "v = np.log(np.exp(v) - 1)\n",
    "\n",
    "plt.figure(figsize = (10,5))\n",
    "plt.plot(new_X, func(np.linspace(-T, T, 10 * K), b0, v, X, K), color = 'orange')\n",
    "plt.xlabel('$X_i$', size = 15)\n",
    "plt.ylabel('$func(x)$', size = 15)\n",
    "plt.grid()"
   ]
  }
 ],
 "metadata": {
  "kernelspec": {
   "display_name": "Python 3",
   "language": "python",
   "name": "python3"
  },
  "language_info": {
   "codemirror_mode": {
    "name": "ipython",
    "version": 3
   },
   "file_extension": ".py",
   "mimetype": "text/x-python",
   "name": "python",
   "nbconvert_exporter": "python",
   "pygments_lexer": "ipython3",
   "version": "3.8.8"
  }
 },
 "nbformat": 4,
 "nbformat_minor": 5
}
